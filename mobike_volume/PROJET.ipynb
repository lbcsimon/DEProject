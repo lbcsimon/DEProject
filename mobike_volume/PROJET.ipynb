{
 "cells": [
  {
   "cell_type": "code",
   "execution_count": 9,
   "metadata": {},
   "outputs": [],
   "source": [
    "from pyspark.sql import SparkSession\n",
    "spark = SparkSession.builder.appName(\"pyspark mobike session\").master(\"spark://spark-master:7077\").config(\"spark.executor.memory\",\"512m\").getOrCreate()"
   ]
  },
  {
   "cell_type": "code",
   "execution_count": 10,
   "metadata": {},
   "outputs": [],
   "source": [
    "mobike_df = spark.read.csv(\"mobike.csv\", sep = \",\", header = True)\n",
    "weibo_df = spark.read.csv(\"weibo.csv\", sep = \";\", header = True)"
   ]
  },
  {
   "cell_type": "code",
   "execution_count": 11,
   "metadata": {},
   "outputs": [],
   "source": [
    "weibo_df1 = weibo_df.select(['location_name', 'location_latitude', 'location_longitude'])\n",
    "mobike_df1 = mobike_df.select(['bikeid', 'start_time', 'end_time','start_location_x', 'start_location_y', 'end_location_x', 'end_location_y'])"
   ]
  },
  {
   "cell_type": "code",
   "execution_count": 4,
   "metadata": {},
   "outputs": [
    {
     "data": {
      "text/plain": [
       "1023603"
      ]
     },
     "execution_count": 4,
     "metadata": {},
     "output_type": "execute_result"
    }
   ],
   "source": [
    "mobike_df1.count()"
   ]
  },
  {
   "cell_type": "code",
   "execution_count": 12,
   "metadata": {},
   "outputs": [
    {
     "data": {
      "text/plain": [
       "DataFrame[summary: string, location_name: string, location_latitude: string, location_longitude: string]"
      ]
     },
     "execution_count": 12,
     "metadata": {},
     "output_type": "execute_result"
    }
   ],
   "source": [
    "#weibo_df1.count()\n",
    "weibo_df1.describe()"
   ]
  },
  {
   "cell_type": "code",
   "execution_count": 6,
   "metadata": {},
   "outputs": [
    {
     "name": "stdout",
     "output_type": "stream",
     "text": [
      "+------+----------------+----------------+----------------+----------------+--------------+--------------+\n",
      "|bikeid|      start_time|        end_time|start_location_x|start_location_y|end_location_x|end_location_y|\n",
      "+------+----------------+----------------+----------------+----------------+--------------+--------------+\n",
      "|324731|2016-08-28 00:00|2016-08-28 00:08|          121.49|           31.28|       121.486|        31.273|\n",
      "|288841|2016-08-28 00:00|2016-08-28 00:17|         121.462|          31.313|       121.455|        31.315|\n",
      "|315873|2016-08-28 00:00|2016-08-28 00:14|         121.416|          31.154|       121.419|        31.156|\n",
      "| 93155|2016-08-28 00:00|2016-08-28 00:12|         121.436|           31.32|       121.444|         31.31|\n",
      "|352484|2016-08-28 00:00|2016-08-28 00:08|         121.459|          31.325|        121.46|        31.315|\n",
      "|127840|2016-08-28 00:00|2016-08-28 00:07|         121.353|          31.285|       121.362|        31.283|\n",
      "|125990|2016-08-28 00:00|2016-08-28 00:30|         121.441|          31.228|       121.455|         31.19|\n",
      "|346549|2016-08-28 00:00|2016-08-28 00:31|         121.426|          31.222|       121.423|        31.268|\n",
      "|352552|2016-08-28 00:00|2016-08-28 00:14|         121.524|          31.301|       121.518|        31.291|\n",
      "|351480|2016-08-28 00:00|2016-08-28 00:10|         121.442|          31.313|       121.453|        31.311|\n",
      "|130705|2016-08-28 00:00|2016-08-28 00:16|         121.381|          31.313|       121.405|        31.312|\n",
      "|348492|2016-08-28 00:00|2016-08-28 01:04|         121.407|          31.206|       121.369|         31.18|\n",
      "|105800|2016-08-28 00:00|2016-08-28 01:10|         121.479|          31.224|       121.485|        31.199|\n",
      "| 53494|2016-08-28 00:00|2016-08-28 00:16|         121.483|          31.262|       121.479|        31.285|\n",
      "|288633|2016-08-28 00:00|2016-08-28 01:40|         121.478|          31.276|        121.48|        31.275|\n",
      "|145604|2016-08-28 00:01|2016-08-28 00:08|         121.488|           31.21|       121.489|        31.212|\n",
      "|266405|2016-08-28 00:01|2016-08-28 00:14|         121.304|          31.148|       121.315|        31.135|\n",
      "| 70710|2016-08-28 00:00|2016-08-28 00:35|         121.414|          31.272|       121.405|        31.294|\n",
      "|150760|2016-08-28 00:01|2016-08-28 00:06|         121.423|          31.239|       121.427|        31.241|\n",
      "|265747|2016-08-28 00:01|2016-08-28 00:17|         121.467|          31.269|       121.471|        31.292|\n",
      "+------+----------------+----------------+----------------+----------------+--------------+--------------+\n",
      "only showing top 20 rows\n",
      "\n"
     ]
    }
   ],
   "source": [
    "mobike_df1.show()"
   ]
  },
  {
   "cell_type": "code",
   "execution_count": 12,
   "metadata": {},
   "outputs": [],
   "source": [
    "mobike_df1 = mobike_df1.withColumnRenamed('start_location_x', 'start_longitude')\n",
    "mobike_df1 =mobike_df1.withColumnRenamed('start_location_y', 'start_latitude')\n",
    "mobike_df1 =mobike_df1.withColumnRenamed('end_location_x', 'end_longitude')\n",
    "mobike_df1 =mobike_df1.withColumnRenamed('end_location_y', 'end_latitude')"
   ]
  },
  {
   "cell_type": "code",
   "execution_count": 8,
   "metadata": {},
   "outputs": [
    {
     "name": "stdout",
     "output_type": "stream",
     "text": [
      "+------+----------------+----------------+---------------+--------------+-------------+------------+\n",
      "|bikeid|      start_time|        end_time|start_longitude|start_latitude|end_longitude|end_latitude|\n",
      "+------+----------------+----------------+---------------+--------------+-------------+------------+\n",
      "|324731|2016-08-28 00:00|2016-08-28 00:08|         121.49|         31.28|      121.486|      31.273|\n",
      "|288841|2016-08-28 00:00|2016-08-28 00:17|        121.462|        31.313|      121.455|      31.315|\n",
      "|315873|2016-08-28 00:00|2016-08-28 00:14|        121.416|        31.154|      121.419|      31.156|\n",
      "| 93155|2016-08-28 00:00|2016-08-28 00:12|        121.436|         31.32|      121.444|       31.31|\n",
      "|352484|2016-08-28 00:00|2016-08-28 00:08|        121.459|        31.325|       121.46|      31.315|\n",
      "|127840|2016-08-28 00:00|2016-08-28 00:07|        121.353|        31.285|      121.362|      31.283|\n",
      "|125990|2016-08-28 00:00|2016-08-28 00:30|        121.441|        31.228|      121.455|       31.19|\n",
      "|346549|2016-08-28 00:00|2016-08-28 00:31|        121.426|        31.222|      121.423|      31.268|\n",
      "|352552|2016-08-28 00:00|2016-08-28 00:14|        121.524|        31.301|      121.518|      31.291|\n",
      "|351480|2016-08-28 00:00|2016-08-28 00:10|        121.442|        31.313|      121.453|      31.311|\n",
      "|130705|2016-08-28 00:00|2016-08-28 00:16|        121.381|        31.313|      121.405|      31.312|\n",
      "|348492|2016-08-28 00:00|2016-08-28 01:04|        121.407|        31.206|      121.369|       31.18|\n",
      "|105800|2016-08-28 00:00|2016-08-28 01:10|        121.479|        31.224|      121.485|      31.199|\n",
      "| 53494|2016-08-28 00:00|2016-08-28 00:16|        121.483|        31.262|      121.479|      31.285|\n",
      "|288633|2016-08-28 00:00|2016-08-28 01:40|        121.478|        31.276|       121.48|      31.275|\n",
      "|145604|2016-08-28 00:01|2016-08-28 00:08|        121.488|         31.21|      121.489|      31.212|\n",
      "|266405|2016-08-28 00:01|2016-08-28 00:14|        121.304|        31.148|      121.315|      31.135|\n",
      "| 70710|2016-08-28 00:00|2016-08-28 00:35|        121.414|        31.272|      121.405|      31.294|\n",
      "|150760|2016-08-28 00:01|2016-08-28 00:06|        121.423|        31.239|      121.427|      31.241|\n",
      "|265747|2016-08-28 00:01|2016-08-28 00:17|        121.467|        31.269|      121.471|      31.292|\n",
      "+------+----------------+----------------+---------------+--------------+-------------+------------+\n",
      "only showing top 20 rows\n",
      "\n"
     ]
    }
   ],
   "source": [
    "mobike_df1.show()"
   ]
  },
  {
   "cell_type": "code",
   "execution_count": 13,
   "metadata": {},
   "outputs": [],
   "source": [
    "from datetime import datetime\n",
    "\n",
    "mobike_start_rdd = mobike_df1.rdd.map(lambda x: [x.bikeid, datetime.fromisoformat(x.start_time).isoweekday(), datetime.fromisoformat(x.start_time).hour, datetime.fromisoformat(x.start_time).minute, x.start_longitude,x.start_latitude])\n",
    "mobike_end_rdd = mobike_df1.rdd.map(lambda x: [x.bikeid, datetime.fromisoformat(x.start_time).isoweekday(), datetime.fromisoformat(x.end_time).hour, datetime.fromisoformat(x.end_time).minute, x.end_longitude,x.end_latitude])"
   ]
  },
  {
   "cell_type": "code",
   "execution_count": 14,
   "metadata": {},
   "outputs": [],
   "source": [
    "start_df = spark.createDataFrame(mobike_start_rdd, schema=['bikeid', 'weekday', 'hour', 'minute', 'location_longitude', 'location_latitude'])\n",
    "end_df = spark.createDataFrame(mobike_end_rdd, schema=['bikeid', 'weekday', 'hour', 'minute', 'location_longitude', 'location_latitude'])"
   ]
  },
  {
   "cell_type": "code",
   "execution_count": 7,
   "metadata": {},
   "outputs": [
    {
     "data": {
      "text/plain": [
       "1023603"
      ]
     },
     "execution_count": 7,
     "metadata": {},
     "output_type": "execute_result"
    }
   ],
   "source": [
    "start_df.count()"
   ]
  },
  {
   "cell_type": "code",
   "execution_count": 20,
   "metadata": {},
   "outputs": [
    {
     "name": "stdout",
     "output_type": "stream",
     "text": [
      "+------+-------+----+------+------------------+-----------------+\n",
      "|bikeid|weekday|hour|minute|location_longitude|location_latitude|\n",
      "+------+-------+----+------+------------------+-----------------+\n",
      "|324731|      7|   0|     8|           121.486|           31.273|\n",
      "|288841|      7|   0|    17|           121.455|           31.315|\n",
      "|315873|      7|   0|    14|           121.419|           31.156|\n",
      "| 93155|      7|   0|    12|           121.444|            31.31|\n",
      "|352484|      7|   0|     8|            121.46|           31.315|\n",
      "|127840|      7|   0|     7|           121.362|           31.283|\n",
      "|125990|      7|   0|    30|           121.455|            31.19|\n",
      "|346549|      7|   0|    31|           121.423|           31.268|\n",
      "|352552|      7|   0|    14|           121.518|           31.291|\n",
      "|351480|      7|   0|    10|           121.453|           31.311|\n",
      "|130705|      7|   0|    16|           121.405|           31.312|\n",
      "|348492|      7|   1|     4|           121.369|            31.18|\n",
      "|105800|      7|   1|    10|           121.485|           31.199|\n",
      "| 53494|      7|   0|    16|           121.479|           31.285|\n",
      "|288633|      7|   1|    40|            121.48|           31.275|\n",
      "|145604|      7|   0|     8|           121.489|           31.212|\n",
      "|266405|      7|   0|    14|           121.315|           31.135|\n",
      "| 70710|      7|   0|    35|           121.405|           31.294|\n",
      "|150760|      7|   0|     6|           121.427|           31.241|\n",
      "|265747|      7|   0|    17|           121.471|           31.292|\n",
      "+------+-------+----+------+------------------+-----------------+\n",
      "only showing top 20 rows\n",
      "\n"
     ]
    }
   ],
   "source": [
    "end_df.show()"
   ]
  },
  {
   "cell_type": "code",
   "execution_count": 15,
   "metadata": {},
   "outputs": [],
   "source": [
    "from pyspark.sql.functions import col\n",
    "weibo_df1 = weibo_df1.filter(col('location_longitude').cast(\"float\").isNotNull())\n",
    "weibo_df1 = weibo_df1.filter(col('location_latitude').cast(\"float\").isNotNull())\n",
    "weibo_rdd = weibo_df1.rdd.map(lambda x: [x.location_name, round(float(x.location_longitude), 3), round(float(x.location_latitude), 3)])\n",
    "weibo_df2 = spark.createDataFrame(weibo_rdd, schema=['location_name', 'location_longitude', 'location_latitude'])"
   ]
  },
  {
   "cell_type": "code",
   "execution_count": 9,
   "metadata": {},
   "outputs": [
    {
     "data": {
      "text/plain": [
       "502574"
      ]
     },
     "execution_count": 9,
     "metadata": {},
     "output_type": "execute_result"
    }
   ],
   "source": [
    "weibo_df2.count()"
   ]
  },
  {
   "cell_type": "code",
   "execution_count": 16,
   "metadata": {},
   "outputs": [],
   "source": [
    "weibo_df2 = weibo_df2.drop_duplicates(['location_name'])"
   ]
  },
  {
   "cell_type": "code",
   "execution_count": 17,
   "metadata": {},
   "outputs": [],
   "source": [
    "start_df1 = start_df.join(weibo_df2, on = ['location_longitude', 'location_latitude'])"
   ]
  },
  {
   "cell_type": "code",
   "execution_count": 18,
   "metadata": {},
   "outputs": [],
   "source": [
    "end_df1 = end_df.join(weibo_df2, on = ['location_longitude', 'location_latitude'])"
   ]
  },
  {
   "cell_type": "code",
   "execution_count": 13,
   "metadata": {},
   "outputs": [
    {
     "data": {
      "text/plain": [
       "1265911"
      ]
     },
     "execution_count": 13,
     "metadata": {},
     "output_type": "execute_result"
    }
   ],
   "source": [
    "start_df1.count()"
   ]
  },
  {
   "cell_type": "code",
   "execution_count": 14,
   "metadata": {},
   "outputs": [
    {
     "data": {
      "text/plain": [
       "1246067"
      ]
     },
     "execution_count": 14,
     "metadata": {},
     "output_type": "execute_result"
    }
   ],
   "source": [
    "end_df1.count()"
   ]
  },
  {
   "cell_type": "code",
   "execution_count": 16,
   "metadata": {},
   "outputs": [
    {
     "name": "stdout",
     "output_type": "stream",
     "text": [
      "+------------------------+------------------+-----------------+-------+----+------+-------------+\n",
      "|           location_name|location_longitude|location_latitude|weekday|hour|minute|count(bikeid)|\n",
      "+------------------------+------------------+-----------------+-------+----+------+-------------+\n",
      "|                世纪联华|           121.373|           31.217|      3|  15|    18|            1|\n",
      "|        上海西华酒店公寓|           121.431|           31.204|      3|  23|    34|            1|\n",
      "|上海市心理咨询与治疗中心|           121.444|            31.19|      1|   9|    53|            1|\n",
      "|                爱邦大厦|           121.444|            31.19|      5|  18|    53|            1|\n",
      "|            明园森林都市|            121.45|            31.29|      1|   9|     3|            1|\n",
      "|       避风塘 延长中路店|           121.452|           31.274|      2|  20|    24|            1|\n",
      "|                  安乐坊|           121.453|           31.229|      6|  10|    28|            1|\n",
      "|             ROUGE SALON|            121.46|           31.221|      1|  18|    43|            1|\n",
      "|            上海阿良刺青|            121.46|           31.221|      7|  20|    39|            1|\n",
      "|                  长城苑|           121.463|           31.251|      1|  18|    21|            1|\n",
      "|            长城苑(东门)|           121.463|           31.251|      2|  10|    27|            1|\n",
      "|          中环广场写字楼|           121.469|           31.224|      4|  11|    27|            1|\n",
      "|              白玉兰酒店|           121.474|           31.206|      7|  20|    46|            1|\n",
      "|          实力击剑俱乐部|           121.474|           31.206|      7|   2|    20|            1|\n",
      "|              白玉兰酒店|           121.474|           31.206|      6|   7|    50|            1|\n",
      "|                金陵中学|           121.489|           31.234|      4|  18|    22|            1|\n",
      "|          光明大厦停车场|           121.489|           31.234|      7|  18|    30|            1|\n",
      "|        四川南路金陵东路|           121.489|           31.234|      3|  12|     2|            1|\n",
      "|                金陵东路|           121.489|           31.234|      2|  18|    51|            1|\n",
      "|        四川南路金陵东路|           121.489|           31.234|      5|  19|    27|            1|\n",
      "+------------------------+------------------+-----------------+-------+----+------+-------------+\n",
      "only showing top 20 rows\n",
      "\n"
     ]
    }
   ],
   "source": [
    "start_df1.groupby(['location_name', 'location_longitude', 'location_latitude', 'weekday', 'hour', 'minute']).agg({'bikeid': 'count'}).show()"
   ]
  },
  {
   "cell_type": "code",
   "execution_count": 19,
   "metadata": {},
   "outputs": [],
   "source": [
    "start_df2 = start_df1.groupby(['location_name', 'location_longitude', 'location_latitude', 'weekday', 'hour']).agg({'bikeid': 'count'})\n",
    "end_df2 = end_df1.groupby(['location_name', 'location_longitude', 'location_latitude', 'weekday', 'hour']).agg({'bikeid': 'count'})"
   ]
  },
  {
   "cell_type": "code",
   "execution_count": 20,
   "metadata": {},
   "outputs": [],
   "source": [
    "start_df2 = start_df2.withColumnRenamed(\"count(bikeid)\", 'bike_popularity')\n",
    "end_df2 = end_df2.withColumnRenamed(\"count(bikeid)\", 'bike_popularity')"
   ]
  },
  {
   "cell_type": "code",
   "execution_count": 19,
   "metadata": {},
   "outputs": [
    {
     "name": "stdout",
     "output_type": "stream",
     "text": [
      "+--------------------------+------------------+-----------------+-------+----+------+---------------+\n",
      "|             location_name|location_longitude|location_latitude|weekday|hour|minute|bike_popularity|\n",
      "+--------------------------+------------------+-----------------+-------+----+------+---------------+\n",
      "|          峥峥饮食牛肉拉面|           121.421|           31.224|      3|   7|     9|              1|\n",
      "|                汇都精作坊|           121.421|           31.224|      2|  19|    29|              1|\n",
      "|上海银星皇冠假日酒店碧玉厅|           121.426|           31.206|      3|  18|    15|              1|\n",
      "|                    新會苑|           121.434|            31.24|      6|  15|    20|              1|\n",
      "|              中环现代大厦|           121.434|            31.24|      6|  21|    18|              1|\n",
      "|             The Apartment|           121.441|           31.213|      2|  12|    59|              1|\n",
      "|       JZ club(爵士俱乐部)|           121.441|           31.213|      2|  11|    21|              1|\n",
      "|     Rhumerie Bounty(永...|           121.441|           31.213|      7|  19|    30|              1|\n",
      "|             The Apartment|           121.441|           31.213|      5|  11|    39|              2|\n",
      "|                  幸福新苑|           121.441|           31.306|      6|  14|    48|              1|\n",
      "|    联华公寓，原名爱文公寓|           121.446|           31.229|      2|  21|     8|              1|\n",
      "|    金舫专业按摩陕西北路店|           121.447|           31.236|      1|   0|    22|              1|\n",
      "|    金舫专业按摩陕西北路店|           121.447|           31.236|      3|   9|    11|              1|\n",
      "|              汾阳路92号院|            121.45|           31.213|      3|  15|    57|              1|\n",
      "|              汾阳路92号院|            121.45|           31.213|      5|  16|    32|              1|\n",
      "|          中环百联江边城外|           121.453|           31.234|      4|  11|    53|              1|\n",
      "|             WINDOWS淮海店|           121.462|           31.221|      7|  22|    39|              1|\n",
      "|             WINDOWS淮海店|           121.462|           31.221|      2|  19|    15|              1|\n",
      "|          鼎园瑞峰公寓酒店|           121.463|           31.203|      4|  20|    54|              1|\n",
      "|                    宝景苑|           121.472|           31.343|      3|  16|    28|              1|\n",
      "+--------------------------+------------------+-----------------+-------+----+------+---------------+\n",
      "only showing top 20 rows\n",
      "\n"
     ]
    }
   ],
   "source": [
    "start_df2.show()"
   ]
  },
  {
   "cell_type": "code",
   "execution_count": 21,
   "metadata": {},
   "outputs": [],
   "source": [
    "start_df2 = start_df2.orderBy([\"bike_popularity\"], ascending = [0])"
   ]
  },
  {
   "cell_type": "code",
   "execution_count": 22,
   "metadata": {},
   "outputs": [],
   "source": [
    "end_df2 = end_df2.orderBy([\"bike_popularity\"], ascending = [0])"
   ]
  },
  {
   "cell_type": "code",
   "execution_count": 2,
   "metadata": {},
   "outputs": [],
   "source": [
    "import pymysql\n",
    "con = pymysql.connect(host = 'mysql', port = 3306, user='root', password='root', charset = 'utf8')"
   ]
  },
  {
   "cell_type": "code",
   "execution_count": 5,
   "metadata": {},
   "outputs": [
    {
     "data": {
      "text/plain": [
       "1"
      ]
     },
     "execution_count": 5,
     "metadata": {},
     "output_type": "execute_result"
    }
   ],
   "source": [
    "sql = \"CREATE DATABASE IF NOT EXISTS mobike\"\n",
    "\n",
    "cursor = con.cursor()\n",
    "\n",
    "cursor.execute(sql)"
   ]
  },
  {
   "cell_type": "code",
   "execution_count": 6,
   "metadata": {},
   "outputs": [
    {
     "data": {
      "text/plain": [
       "0"
      ]
     },
     "execution_count": 6,
     "metadata": {},
     "output_type": "execute_result"
    }
   ],
   "source": [
    "sql = \"USE mobike\"\n",
    "cursor.execute(sql)"
   ]
  },
  {
   "cell_type": "code",
   "execution_count": 7,
   "metadata": {},
   "outputs": [
    {
     "data": {
      "text/plain": [
       "0"
      ]
     },
     "execution_count": 7,
     "metadata": {},
     "output_type": "execute_result"
    }
   ],
   "source": [
    "sql = '''CREATE TABLE `start` (\n",
    "  `id` INT NOT NULL AUTO_INCREMENT,\n",
    "  `location_name` CHAR(50) ,\n",
    "  `location_longitude` FLOAT NOT NULL,\n",
    "  `location_latitude` FLOAT NOT NULL,\n",
    "  `weekday` INT NOT NULL,\n",
    "  `hour` INT NOT NULL,\n",
    "  `bike_popularity` INT NOT NULL,\n",
    "  PRIMARY KEY (`id`)\n",
    ") ENGINE=InnoDB DEFAULT CHARSET=utf8;\n",
    "'''\n",
    "cursor.execute(sql)"
   ]
  },
  {
   "cell_type": "code",
   "execution_count": 8,
   "metadata": {},
   "outputs": [
    {
     "data": {
      "text/plain": [
       "0"
      ]
     },
     "execution_count": 8,
     "metadata": {},
     "output_type": "execute_result"
    }
   ],
   "source": [
    "sql = '''CREATE TABLE `end` (\n",
    "  `id` INT NOT NULL AUTO_INCREMENT,\n",
    "  `location_name` CHAR(50) ,\n",
    "  `location_longitude` FLOAT NOT NULL,\n",
    "  `location_latitude` FLOAT NOT NULL,\n",
    "  `weekday` INT NOT NULL,\n",
    "  `hour` INT NOT NULL,\n",
    "  `bike_popularity` INT NOT NULL,\n",
    "  PRIMARY KEY (`id`)\n",
    ") ENGINE=InnoDB DEFAULT CHARSET=utf8;\n",
    "'''\n",
    "cursor.execute(sql)"
   ]
  },
  {
   "cell_type": "code",
   "execution_count": 23,
   "metadata": {},
   "outputs": [],
   "source": [
    "dataCollect = start_df2.rdd.toLocalIterator()"
   ]
  },
  {
   "cell_type": "code",
   "execution_count": 27,
   "metadata": {},
   "outputs": [],
   "source": [
    "for x in dataCollect:\n",
    "    sql = \"INSERT INTO start(location_name, location_longitude, location_latitude, weekday, hour, bike_popularity) \\\n",
    "           VALUES ('%s', '%s',  %s,  '%s',  %s, %s)\" % \\\n",
    "           (x.location_name, x.location_longitude, x.location_latitude, x.weekday, x.hour, x.bike_popularity)\n",
    "    try:\n",
    "       # 执行sql语句\n",
    "       cursor.execute(sql)\n",
    "       # 执行sql语句\n",
    "       con.commit()\n",
    "    except:\n",
    "       # 发生错误时回滚\n",
    "       con.rollback()"
   ]
  },
  {
   "cell_type": "code",
   "execution_count": 30,
   "metadata": {},
   "outputs": [],
   "source": [
    "enddataCollect = end_df2.rdd.toLocalIterator()\n",
    "for x in enddataCollect:\n",
    "    sql = \"INSERT INTO end(location_name, location_longitude, location_latitude, weekday, hour, bike_popularity) \\\n",
    "           VALUES ('%s', '%s',  %s,  '%s',  %s, %s)\" % \\\n",
    "           (x.location_name, x.location_longitude, x.location_latitude, x.weekday, x.hour, x.bike_popularity)\n",
    "    try:\n",
    "       # 执行sql语句\n",
    "       cursor.execute(sql)\n",
    "       # 执行sql语句\n",
    "       con.commit()\n",
    "    except:\n",
    "       # 发生错误时回滚\n",
    "       con.rollback()"
   ]
  },
  {
   "cell_type": "code",
   "execution_count": null,
   "metadata": {},
   "outputs": [],
   "source": []
  }
 ],
 "metadata": {
  "kernelspec": {
   "display_name": "Python 3",
   "language": "python",
   "name": "python3"
  },
  "language_info": {
   "codemirror_mode": {
    "name": "ipython",
    "version": 3
   },
   "file_extension": ".py",
   "mimetype": "text/x-python",
   "name": "python",
   "nbconvert_exporter": "python",
   "pygments_lexer": "ipython3",
   "version": "3.8.5"
  }
 },
 "nbformat": 4,
 "nbformat_minor": 5
}
