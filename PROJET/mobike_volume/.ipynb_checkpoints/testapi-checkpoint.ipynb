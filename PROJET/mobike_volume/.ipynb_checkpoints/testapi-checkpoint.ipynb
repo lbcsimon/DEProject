{
 "cells": [
  {
   "cell_type": "code",
   "execution_count": 39,
   "id": "2a69d475-dd9f-41f0-830a-674aaa1bbd3d",
   "metadata": {},
   "outputs": [],
   "source": [
    "import requests\n",
    "import json"
   ]
  },
  {
   "cell_type": "markdown",
   "id": "817af253-43af-43f4-b6a0-2a84f6cc52be",
   "metadata": {},
   "source": [
    "### test the bikepops route"
   ]
  },
  {
   "cell_type": "code",
   "execution_count": 27,
   "id": "193b2f3b-7eec-449d-bd1f-4b4b983c95c8",
   "metadata": {},
   "outputs": [
    {
     "name": "stdout",
     "output_type": "stream",
     "text": [
      "{'bike_popularity': 14, 'location': '夕阳红敬老院', 'hour': '13', 'weekday': '2'}\n"
     ]
    }
   ],
   "source": [
    "hour = 13\n",
    "weekday = 2 \n",
    "location = \"夕阳红敬老院\"\n",
    "r = requests.get(\"http://flaskapi:5000/bikepops\", params={'location': location, 'weekday':weekday, 'hour': hour})\n",
    "print(r.json())"
   ]
  },
  {
   "cell_type": "code",
   "execution_count": 46,
   "id": "4a6ce332-a171-4541-8b20-aa116ec4807d",
   "metadata": {},
   "outputs": [
    {
     "name": "stdout",
     "output_type": "stream",
     "text": [
      "{\n",
      "    \"bike_popularity\": 7,\n",
      "    \"location\": \"夕阳红敬老院\",\n",
      "    \"hour\": 13,\n",
      "    \"weekday\": 1\n",
      "}\n"
     ]
    }
   ],
   "source": [
    "r = requests.get(\"http://flaskapi:5000/bikepops\", params={'location': location})\n",
    "print(json.dumps(r.json(), indent=4).encode('utf-8').decode('unicode_escape'))"
   ]
  },
  {
   "cell_type": "code",
   "execution_count": 47,
   "id": "651b8fb4-d6f3-404e-8985-b18c53cc40f1",
   "metadata": {},
   "outputs": [
    {
     "name": "stdout",
     "output_type": "stream",
     "text": [
      "{\n",
      "    \"bike_popularity\": 2,\n",
      "    \"location\": \"夕阳红敬老院\",\n",
      "    \"hour\": 13,\n",
      "    \"weekday\": \"4\"\n",
      "}\n"
     ]
    }
   ],
   "source": [
    "r = requests.get(\"http://flaskapi:5000/bikepops\", params={'location': location, 'weekday': weekday})\n",
    "print(json.dumps(r.json(), indent=4).encode('utf-8').decode('unicode_escape'))"
   ]
  },
  {
   "cell_type": "markdown",
   "id": "c620493e-5cd4-464d-9bea-4bb815da7f5e",
   "metadata": {},
   "source": [
    "### test move strategy"
   ]
  },
  {
   "cell_type": "code",
   "execution_count": 56,
   "id": "d6dd59c9-9186-47f3-8436-3103ac94ba42",
   "metadata": {},
   "outputs": [
    {
     "name": "stdout",
     "output_type": "stream",
     "text": [
      "{\n",
      "    \"from_\": \"上海大学\",\n",
      "    \"have\": 6,\n",
      "    \"hour\": \"13\",\n",
      "    \"strategy\": [\n",
      "        {\n",
      "            \"gone\": 14,\n",
      "            \"to_\": \"上海财大会计学院\"\n",
      "        },\n",
      "        {\n",
      "            \"gone\": 11,\n",
      "            \"to_\": \"上海電力學院食堂\"\n",
      "        },\n",
      "        {\n",
      "            \"gone\": 9,\n",
      "            \"to_\": \"凯城景亭园\"\n",
      "        },\n",
      "        {\n",
      "            \"gone\": 9,\n",
      "            \"to_\": \"江湾翰林售楼处\"\n",
      "        },\n",
      "        {\n",
      "            \"gone\": 9,\n",
      "            \"to_\": \"上海市虹口区妇幼保健所\"\n",
      "        },\n",
      "        {\n",
      "            \"gone\": 9,\n",
      "            \"to_\": \"巴林小区\"\n",
      "        },\n",
      "        {\n",
      "            \"gone\": 9,\n",
      "            \"to_\": \"曲阳街道社区卫生服务中心\"\n",
      "        },\n",
      "        {\n",
      "            \"gone\": 9,\n",
      "            \"to_\": \"巴林路80弄小区(南门)\"\n",
      "        },\n",
      "        {\n",
      "            \"gone\": 7,\n",
      "            \"to_\": \"复旦大学五六教食堂\"\n",
      "        },\n",
      "        {\n",
      "            \"gone\": 7,\n",
      "            \"to_\": \"星巴克(上海古象大酒店)\"\n",
      "        }\n",
      "    ],\n",
      "    \"weekday\": \"2\"\n",
      "}\n"
     ]
    }
   ],
   "source": [
    "hour = 13\n",
    "weekday = 2 \n",
    "from_ = \"上海大学\"\n",
    "r = requests.get(\"http://flaskapi:5000/move\", params={'from_': from_, 'weekday':weekday, 'hour': hour})\n",
    "print(json.dumps(r.json(), indent=4).encode('utf-8').decode('unicode_escape'))"
   ]
  },
  {
   "cell_type": "code",
   "execution_count": 57,
   "id": "5944c284-9557-4839-8ede-c693188b49d8",
   "metadata": {},
   "outputs": [
    {
     "name": "stdout",
     "output_type": "stream",
     "text": [
      "{\n",
      "    \"gone\": 7,\n",
      "    \"hour\": \"10\",\n",
      "    \"strategy\": [\n",
      "        {\n",
      "            \"from_\": \"夕阳红敬老院\",\n",
      "            \"have\": 12\n",
      "        },\n",
      "        {\n",
      "            \"from_\": \"上海财大会计学院\",\n",
      "            \"have\": 10\n",
      "        },\n",
      "        {\n",
      "            \"from_\": \"大名路白渡桥\",\n",
      "            \"have\": 8\n",
      "        },\n",
      "        {\n",
      "            \"from_\": \"西九巷咖啡（五角场店）\",\n",
      "            \"have\": 8\n",
      "        },\n",
      "        {\n",
      "            \"from_\": \"三和大厦\",\n",
      "            \"have\": 8\n",
      "        },\n",
      "        {\n",
      "            \"from_\": \"上海電力學院食堂\",\n",
      "            \"have\": 8\n",
      "        },\n",
      "        {\n",
      "            \"from_\": \"三和花园\",\n",
      "            \"have\": 8\n",
      "        },\n",
      "        {\n",
      "            \"from_\": \"政通路100弄小区\",\n",
      "            \"have\": 8\n",
      "        },\n",
      "        {\n",
      "            \"from_\": \"芊芊美甲沙龙\",\n",
      "            \"have\": 8\n",
      "        },\n",
      "        {\n",
      "            \"from_\": \"7-ELEVEN(局门店)\",\n",
      "            \"have\": 7\n",
      "        }\n",
      "    ],\n",
      "    \"to_\": \"上海大学\",\n",
      "    \"weekday\": \"2\"\n",
      "}\n"
     ]
    }
   ],
   "source": [
    "hour = 10\n",
    "weekday = 2 \n",
    "to_ = \"上海大学\"\n",
    "r = requests.get(\"http://flaskapi:5000/move\", params={'to_': to_, 'weekday':weekday, 'hour': hour})\n",
    "print(json.dumps(r.json(), indent=4).encode('utf-8').decode('unicode_escape'))"
   ]
  },
  {
   "cell_type": "markdown",
   "id": "fc691889-ca59-46b9-90fa-fa98f07055e8",
   "metadata": {},
   "source": [
    "### test the read speed"
   ]
  },
  {
   "cell_type": "code",
   "execution_count": 38,
   "id": "e3b38673-0f16-41f6-b12c-a9c7f10ad238",
   "metadata": {},
   "outputs": [
    {
     "name": "stdout",
     "output_type": "stream",
     "text": [
      "{'gone': 7, 'hour': '0', 'strategy': [], 'to_': '上海大学', 'weekday': '4'}\n",
      "{'gone': 7, 'hour': '1', 'strategy': [], 'to_': '上海大学', 'weekday': '4'}\n",
      "{'gone': 7, 'hour': '2', 'strategy': [], 'to_': '上海大学', 'weekday': '4'}\n",
      "{'gone': 7, 'hour': '3', 'strategy': [], 'to_': '上海大学', 'weekday': '4'}\n",
      "{'gone': 7, 'hour': '4', 'strategy': [], 'to_': '上海大学', 'weekday': '4'}\n",
      "{'gone': 7, 'hour': '5', 'strategy': [], 'to_': '上海大学', 'weekday': '4'}\n",
      "{'gone': 7, 'hour': '6', 'strategy': [{'from_': '上海财大会计学院', 'have': 21}, {'from_': '宝山区税务分局第五、第十税务所', 'have': 20}, {'from_': '夕阳红敬老院', 'have': 19}, {'from_': '龙潭小区(南一门)', 'have': 13}, {'from_': '广州本田美顺店', 'have': 12}, {'from_': '曲阳社区文化中心', 'have': 8}, {'from_': '曲阳公园', 'have': 8}, {'from_': '良友(甘泉路)', 'have': 6}, {'from_': '鲁迅公园湖中央', 'have': 6}, {'from_': '嘉兰大厦', 'have': 6}], 'to_': '上海大学', 'weekday': '4'}\n",
      "{'gone': 7, 'hour': '7', 'strategy': [{'from_': '上海财大会计学院', 'have': 104}, {'from_': '夕阳红敬老院', 'have': 95}, {'from_': '宝山区税务分局第五、第十税务所', 'have': 80}, {'from_': '苏州面馆 芝川店', 'have': 39}, {'from_': '曹杨家园', 'have': 39}, {'from_': '文化花园明珠苑', 'have': 34}, {'from_': '久久丫鸭颈王罗秀路店', 'have': 30}, {'from_': '莲花南路上中西路', 'have': 30}, {'from_': '西班牙名园一期', 'have': 30}, {'from_': '阳城世家苑(南二门)', 'have': 25}], 'to_': '上海大学', 'weekday': '4'}\n",
      "{'gone': 7, 'hour': '8', 'strategy': [{'from_': '上海财大会计学院', 'have': 80}, {'from_': '夕阳红敬老院', 'have': 71}, {'from_': '宝山区税务分局第五、第十税务所', 'have': 49}, {'from_': '上海電力學院食堂', 'have': 34}, {'from_': '文化花园明珠苑', 'have': 29}, {'from_': '曹杨家园', 'have': 27}, {'from_': '苏州面馆 芝川店', 'have': 27}, {'from_': '良友(甘泉路)', 'have': 26}, {'from_': '延吉路水丰路', 'have': 26}, {'from_': '上海理工大学附属中学', 'have': 26}], 'to_': '上海大学', 'weekday': '4'}\n",
      "{'gone': 7, 'hour': '9', 'strategy': [{'from_': '129礼堂', 'have': 21}, {'from_': '伊顿公寓', 'have': 19}, {'from_': '爱心献血点(通北路)', 'have': 18}, {'from_': '上海市总工会培训中心', 'have': 18}, {'from_': '平凉路街道社区事务受理服务中心', 'have': 18}, {'from_': '上海财大会计学院', 'have': 16}, {'from_': '吉浦小区', 'have': 16}, {'from_': '荣臣驾校(长江南路店)', 'have': 15}, {'from_': '夕阳红敬老院', 'have': 14}, {'from_': '华丽达视听', 'have': 14}], 'to_': '上海大学', 'weekday': '4'}\n",
      "{'gone': 7, 'hour': '10', 'strategy': [{'from_': '泰勒瓦品质红酒 大学路店', 'have': 8}, {'from_': '亚历山大瑜伽馆', 'have': 7}, {'from_': '汇宝购物中心', 'have': 7}, {'from_': '华丽达视听', 'have': 6}, {'from_': '永和大王(宜山店)', 'have': 6}, {'from_': '东顶发图制造路店', 'have': 6}, {'from_': '上海财大会计学院', 'have': 6}, {'from_': '打浦桥街道社区卫生服务中心(黄陂南路)', 'have': 6}], 'to_': '上海大学', 'weekday': '4'}\n",
      "{'gone': 7, 'hour': '11', 'strategy': [{'from_': '上海财大会计学院', 'have': 9}, {'from_': '外滩一号', 'have': 8}, {'from_': '上海外滩华尔道夫酒店(Waldorf Astoria Shanghai on the Bund)', 'have': 8}, {'from_': '延安东路外滩', 'have': 8}, {'from_': '五芳面馆(外滩店)', 'have': 8}, {'from_': '廊吧 Long Bar (上海外滩华尔道夫酒店内)', 'have': 8}, {'from_': '外滩金延大楼', 'have': 8}, {'from_': '阿塔努酒吧1907', 'have': 8}, {'from_': '夕阳红敬老院', 'have': 7}, {'from_': '体育馆', 'have': 6}], 'to_': '上海大学', 'weekday': '4'}\n",
      "{'gone': 7, 'hour': '12', 'strategy': [{'from_': '大宁新村', 'have': 8}, {'from_': '夕阳红敬老院', 'have': 8}, {'from_': '安顺苑', 'have': 8}, {'from_': '同济大学彰武路校区东大楼', 'have': 8}, {'from_': '江湾翰林售楼处', 'have': 7}, {'from_': '中国科学院', 'have': 7}, {'from_': '中国科学院上海生命科学研究院', 'have': 7}, {'from_': '上海聚科生物园区', 'have': 7}, {'from_': '凯城景亭园', 'have': 7}, {'from_': '爱康国宾体检中心(古北店)', 'have': 7}], 'to_': '上海大学', 'weekday': '4'}\n",
      "{'gone': 7, 'hour': '13', 'strategy': [{'from_': '中国移动(曲阳路营业厅)', 'have': 8}, {'from_': '小杨生煎 曲阳路店', 'have': 8}, {'from_': '永和大王(易买得店)', 'have': 8}, {'from_': '艾尼巴亿', 'have': 8}, {'from_': '上海财大会计学院', 'have': 8}, {'from_': '乐宁教育', 'have': 7}, {'from_': '优果 创智天地店 Yogo Juice', 'have': 7}, {'from_': '星巴克 创智天地店 Starbucks Cafe', 'have': 7}, {'from_': '烧肉达人（五角场店）', 'have': 7}, {'from_': '上海市质量监督检验技术研究院', 'have': 7}], 'to_': '上海大学', 'weekday': '4'}\n",
      "{'gone': 7, 'hour': '14', 'strategy': [{'from_': '伊顿公寓', 'have': 11}, {'from_': '全家便利(临平北路店)', 'have': 8}, {'from_': '渡边商务大厦', 'have': 8}, {'from_': '市北自来水', 'have': 8}, {'from_': '虹诚大厦', 'have': 8}, {'from_': '巨麦KTV', 'have': 8}, {'from_': '欧洲花园', 'have': 8}, {'from_': '上海财大会计学院', 'have': 7}, {'from_': '冰火麻辣工场(国济路店)', 'have': 6}, {'from_': '全家便利店(国济店)', 'have': 6}], 'to_': '上海大学', 'weekday': '4'}\n",
      "{'gone': 7, 'hour': '15', 'strategy': [{'from_': '共和新路大宁路K公馆', 'have': 8}, {'from_': '香波理发店(大宁路)', 'have': 8}, {'from_': '大宁新邸', 'have': 8}, {'from_': '上海财大会计学院', 'have': 6}], 'to_': '上海大学', 'weekday': '4'}\n",
      "{'gone': 7, 'hour': '16', 'strategy': [{'from_': '夕阳红敬老院', 'have': 10}, {'from_': '建华大厦', 'have': 8}, {'from_': '金美发艺造型专业设计中心', 'have': 8}, {'from_': '文化花园明珠苑', 'have': 8}, {'from_': '梅园村酒家(五角场店)', 'have': 8}, {'from_': '旺旺火锅楼(周家嘴路一店)', 'have': 8}, {'from_': '上海财大会计学院', 'have': 8}, {'from_': '阿德羊肉', 'have': 8}, {'from_': '凯博佳豪酒店', 'have': 8}, {'from_': '翔殷路五角场', 'have': 8}], 'to_': '上海大学', 'weekday': '4'}\n",
      "{'gone': 7, 'hour': '17', 'strategy': [{'from_': '共和新路大宁路K公馆', 'have': 26}, {'from_': '大宁新邸', 'have': 26}, {'from_': '香波理发店(大宁路)', 'have': 26}, {'from_': '阳城世家苑(南二门)', 'have': 19}, {'from_': '大连新村小区', 'have': 18}, {'from_': 'PXII  club', 'have': 18}, {'from_': '上海财大会计学院', 'have': 17}, {'from_': '广州本田美顺店', 'have': 14}, {'from_': '江湾翰林售楼处', 'have': 14}, {'from_': '凯城景亭园', 'have': 14}], 'to_': '上海大学', 'weekday': '4'}\n",
      "{'gone': 7, 'hour': '18', 'strategy': [{'from_': '上海财大会计学院', 'have': 21}, {'from_': '香波理发店(大宁路)', 'have': 21}, {'from_': '共和新路大宁路K公馆', 'have': 21}, {'from_': '大宁新邸', 'have': 21}, {'from_': '名泉苑(南门)', 'have': 17}, {'from_': '国权北路6弄小区(东门)', 'have': 17}, {'from_': '良友(甘泉路)', 'have': 17}, {'from_': '龙元建设集团股份有限公司', 'have': 17}, {'from_': '殷高西路高境新村', 'have': 16}, {'from_': '江湾翰林售楼处', 'have': 15}], 'to_': '上海大学', 'weekday': '4'}\n",
      "{'gone': 7, 'hour': '19', 'strategy': [{'from_': '国权北路6弄小区(东门)', 'have': 15}, {'from_': '阿康烧烤', 'have': 14}, {'from_': '保利维拉家园', 'have': 14}, {'from_': '殷高西路高境新村', 'have': 13}, {'from_': '棒约翰比萨(嘉年华店)', 'have': 12}, {'from_': '禾禄寿司', 'have': 12}, {'from_': '大华路大华一路', 'have': 12}, {'from_': '万得城咖啡厅(大华店)', 'have': 12}, {'from_': '原味坊(大华虎城店)', 'have': 12}, {'from_': '晋元高级中学附属学校(分部)', 'have': 11}], 'to_': '上海大学', 'weekday': '4'}\n",
      "{'gone': 7, 'hour': '20', 'strategy': [{'from_': '第十人民医院口腔医疗保健中心', 'have': 12}, {'from_': '上海市第十人民医院', 'have': 12}, {'from_': '第十人民医院主大楼', 'have': 12}, {'from_': '大宁新邸', 'have': 11}, {'from_': '开鲁新邨北区', 'have': 11}, {'from_': '稻田寿司', 'have': 11}, {'from_': '开鲁五村', 'have': 11}, {'from_': '共和新路大宁路K公馆', 'have': 11}, {'from_': '大华二村二街坊(南门)', 'have': 11}, {'from_': '香波理发店(大宁路)', 'have': 11}], 'to_': '上海大学', 'weekday': '4'}\n",
      "{'gone': 7, 'hour': '21', 'strategy': [{'from_': '国权北路6弄小区(东门)', 'have': 12}, {'from_': '夕阳红敬老院', 'have': 10}, {'from_': '稻田寿司', 'have': 10}, {'from_': '开鲁新邨北区', 'have': 9}, {'from_': '殷高西路高境新村', 'have': 9}, {'from_': '开鲁五村', 'have': 9}, {'from_': '保利维拉家园', 'have': 9}, {'from_': '良友(甘泉路)', 'have': 9}, {'from_': '名泉苑(南门)', 'have': 9}, {'from_': '阿康烧烤', 'have': 9}], 'to_': '上海大学', 'weekday': '4'}\n",
      "{'gone': 7, 'hour': '22', 'strategy': [{'from_': '东方名园', 'have': 8}, {'from_': '东方名园(东门)', 'have': 8}, {'from_': '杨浦职业技术学院凤城校区', 'have': 7}, {'from_': '黄兴绿园西门(包头南路)', 'have': 7}, {'from_': '开鲁五村', 'have': 7}, {'from_': '平凉路贵阳路', 'have': 7}, {'from_': '光明牛奶平凉冷库', 'have': 7}, {'from_': '北美公寓', 'have': 7}, {'from_': '德丰阁农家菜', 'have': 7}, {'from_': '开鲁新邨北区', 'have': 7}], 'to_': '上海大学', 'weekday': '4'}\n",
      "{'gone': 7, 'hour': '23', 'strategy': [], 'to_': '上海大学', 'weekday': '4'}\n",
      "{'gone': 7, 'hour': '24', 'strategy': [], 'to_': '上海大学', 'weekday': '4'}\n"
     ]
    }
   ],
   "source": [
    "weekday = 4\n",
    "for i in range(0,25):\n",
    "    r = requests.get(\"http://flaskapi:5000/move\", params={'to_': to_, 'weekday':weekday, 'hour': i})\n",
    "    print(r.json())"
   ]
  },
  {
   "cell_type": "code",
   "execution_count": null,
   "id": "867bf16a-c476-4f63-a391-3111d11117ca",
   "metadata": {},
   "outputs": [],
   "source": []
  }
 ],
 "metadata": {
  "kernelspec": {
   "display_name": "Python 3",
   "language": "python",
   "name": "python3"
  },
  "language_info": {
   "codemirror_mode": {
    "name": "ipython",
    "version": 3
   },
   "file_extension": ".py",
   "mimetype": "text/x-python",
   "name": "python",
   "nbconvert_exporter": "python",
   "pygments_lexer": "ipython3",
   "version": "3.8.5"
  }
 },
 "nbformat": 4,
 "nbformat_minor": 5
}
